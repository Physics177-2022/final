{
 "cells": [
  {
   "cell_type": "markdown",
   "metadata": {},
   "source": [
    "# Final project\n",
    "\n",
    "**Due Friday, June 10**\n",
    "\n",
    "*Enter your name here*\n",
    "\n",
    "\n",
    "### Checklist\n",
    "\n",
    "Before submitting, make sure that your project\n",
    "\n",
    "- Introduces a computational topic or method  \n",
    "- Provides background: what kind of problem is this meant to solve?  \n",
    "- Explains the topic/method: how does it work (in words and possibly in equations, as appropriate)?  \n",
    "- Provides an example application: if the project is focused on a particular type of problem, where is this problem encountered? If it is focused on a method, in what situations is the method useful?  \n",
    "- Is similar in depth to one of our shorter homework assignments (e.g., homework 2)  \n",
    "\n",
    "For the text description, you should feel free to expand on your midterm mini-project. Note that the final **must** include a worked example in Python. For examples of how to do this, look back to the Jupyter notebooks accompanying each lecture from the course. I'd strongly encourage you to not just plot your results at the end, but also to show intermediate results along the way. Here's a (very in depth!) [example](https://jakevdp.github.io/PythonDataScienceHandbook/05.07-support-vector-machines.html) using [support vector machines](https://en.wikipedia.org/wiki/Support_vector_machine) for classification, to show a different style of organization.\n",
    "\n",
    "And as always, make sure to\n",
    "\n",
    "- Fill in your name above  \n",
    "- Cite any resources that you used while working on this assignment"
   ]
  },
  {
   "cell_type": "markdown",
   "metadata": {},
   "source": [
    "## Your title here\n",
    "\n",
    "And some text. Fill in below and add code/Markdown cells as needed to complete your project. As a reminder, here's a [guide](https://github.com/adam-p/markdown-here/wiki/Markdown-Cheatsheet) to some common Markdown notation that you can use to format your report."
   ]
  }
 ],
 "metadata": {
  "kernelspec": {
   "display_name": "Python 3 (ipykernel)",
   "language": "python",
   "name": "python3"
  },
  "language_info": {
   "codemirror_mode": {
    "name": "ipython",
    "version": 3
   },
   "file_extension": ".py",
   "mimetype": "text/x-python",
   "name": "python",
   "nbconvert_exporter": "python",
   "pygments_lexer": "ipython3",
   "version": "3.9.12"
  },
  "toc": {
   "base_numbering": 1,
   "nav_menu": {},
   "number_sections": true,
   "sideBar": true,
   "skip_h1_title": false,
   "title_cell": "Table of Contents",
   "title_sidebar": "Contents",
   "toc_cell": false,
   "toc_position": {},
   "toc_section_display": true,
   "toc_window_display": false
  }
 },
 "nbformat": 4,
 "nbformat_minor": 2
}
